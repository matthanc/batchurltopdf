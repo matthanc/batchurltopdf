{
 "cells": [
  {
   "cell_type": "code",
   "execution_count": null,
   "id": "laden-interpretation",
   "metadata": {},
   "outputs": [],
   "source": [
    "import pdfkit\n",
    "import pandas as pd\n",
    "\n",
    "config = pdfkit.configuration(wkhtmltopdf=\"C:\\\\Program Files\\\\wkhtmltopdf\\\\bin\\wkhtmltopdf.exe\")\n",
    "\n",
    "url_list = [\n",
    "    ['http://google.com', 'google.com.pdf'],\n",
    "    ['http://facebook.com', 'facebook.com.pdf'],\n",
    "    ['http://yahoo.com', 'yahoo.com.pdf'],\n",
    "]\n",
    "\n",
    "for k, v in url_list:\n",
    "    pdfkit.from_url(k, v, configuration=config)\n",
    "    \n",
    "    \n"
   ]
  },
  {
   "cell_type": "code",
   "execution_count": null,
   "id": "viral-haiti",
   "metadata": {},
   "outputs": [],
   "source": [
    "annurls = pd.read_csv(\"announcements.csv\")\n",
    "\n",
    "filename = annurls['filename'].tolist()\n",
    "\n",
    "url = annurls['url'].tolist()\n",
    "\n",
    "urllist = list(zip(url, filename))\n",
    "\n",
    "for k, v in urllist:\n",
    "    pdfkit.from_url(k, v, configuration=config)"
   ]
  }
 ],
 "metadata": {
  "kernelspec": {
   "display_name": "Python 3",
   "language": "python",
   "name": "python3"
  },
  "language_info": {
   "codemirror_mode": {
    "name": "ipython",
    "version": 3
   },
   "file_extension": ".py",
   "mimetype": "text/x-python",
   "name": "python",
   "nbconvert_exporter": "python",
   "pygments_lexer": "ipython3",
   "version": "3.7.4"
  }
 },
 "nbformat": 4,
 "nbformat_minor": 5
}
